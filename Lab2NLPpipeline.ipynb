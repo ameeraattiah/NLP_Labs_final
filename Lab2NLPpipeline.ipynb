{
 "cells": [
  {
   "cell_type": "markdown",
   "metadata": {
    "id": "Kk5Lu1Q03pz6"
   },
   "source": [
    "# Lab 2 Building an NLP Pipeline: From Raw Text to Processed Data\n",
    "\n",
    "In this lab, we will be exploring how to preprocess tweets for sentiment analysis.  By the end of this lab, you will see how to use the [NLTK](http://www.nltk.org) package to perform a preprocessing pipeline for Twitter datasets."
   ]
  },
  {
   "cell_type": "markdown",
   "metadata": {},
   "source": [
    "notes: \n"
   ]
  },
  {
   "cell_type": "markdown",
   "metadata": {
    "id": "GGH4AAp5McYQ"
   },
   "source": [
    "# Learning Objectives:\n",
    "By the end of this lab, you will:\n",
    "\n",
    "1. Load and explore a Twitter dataset\n",
    "2. Perform basic text preprocessing\n",
    "3. Use Bag of Words and TF-IDF to represent text\n"
   ]
  },
  {
   "cell_type": "markdown",
   "metadata": {
    "id": "kjx2IUfB3pz8"
   },
   "source": [
    "## Setup\n",
    "We will be using the [Natural Language Toolkit (NLTK)](http://www.nltk.org/howto/twitter.html) package, an open-source Python library for natural language processing. It has modules for collecting, handling, and processing Twitter data.\n",
    "\n",
    "For this exercise, we will use a Twitter dataset that comes with NLTK. This dataset has been manually annotated and serves to establish baselines for models quickly.\n",
    "\n",
    "Let us import them now as well as a few other libraries we will be using."
   ]
  },
  {
   "cell_type": "code",
   "execution_count": 25,
   "metadata": {
    "id": "LIYoGyJD3pz9"
   },
   "outputs": [],
   "source": [
    "import nltk                                # Python library for NLP\n",
    "from nltk.corpus import twitter_samples    # sample Twitter dataset from NLTK\n",
    "import matplotlib.pyplot as plt            # library for visualization\n",
    "import random                              # pseudo-random number generator"
   ]
  },
  {
   "cell_type": "markdown",
   "metadata": {
    "id": "4TUmpSQW3pz-"
   },
   "source": [
    "## Step 1: Loading the Twitter Dataset\n",
    "\n",
    "The sample dataset from NLTK is separated into positive and negative tweets. It contains 5000 positive tweets and 5000 negative tweets exactly. The exact match between these classes is not a coincidence. The intention is to have a balanced dataset. That does not reflect the real distributions of positive and negative classes in live Twitter streams. However, it is better to be aware that this balance of classes is artificial.\n"
   ]
  },
  {
   "cell_type": "code",
   "execution_count": 27,
   "metadata": {
    "colab": {
     "base_uri": "https://localhost:8080/"
    },
    "id": "FTQgiI3H3pz-",
    "outputId": "6014f8bb-3b21-41a0-d70f-d53de2915d62"
   },
   "outputs": [
    {
     "name": "stderr",
     "output_type": "stream",
     "text": [
      "[nltk_data] Downloading package twitter_samples to\n",
      "[nltk_data]     /Users/ameeraattiah/nltk_data...\n",
      "[nltk_data]   Package twitter_samples is already up-to-date!\n"
     ]
    },
    {
     "data": {
      "text/plain": [
       "True"
      ]
     },
     "execution_count": 27,
     "metadata": {},
     "output_type": "execute_result"
    }
   ],
   "source": [
    "# downloads sample twitter dataset. uncomment the line below if running on a local machine.\n",
    "nltk.download('twitter_samples') # coming in QUIZ"
   ]
  },
  {
   "cell_type": "markdown",
   "metadata": {
    "id": "-gtlLVzG3pz_"
   },
   "source": [
    "We can load the text fields of the positive and negative tweets by using the module's `strings()` method like this:"
   ]
  },
  {
   "cell_type": "code",
   "execution_count": 29,
   "metadata": {
    "id": "7iMxilqQ3pz_"
   },
   "outputs": [],
   "source": [
    "# select the set of positive and negative tweets\n",
    "all_positive_tweets = twitter_samples.strings('positive_tweets.json') # coming in QUIZ\n",
    "\n",
    "all_negative_tweets = twitter_samples.strings('negative_tweets.json') # coming in QUIZ"
   ]
  },
  {
   "cell_type": "markdown",
   "metadata": {
    "id": "cMNx_SdITYhj"
   },
   "source": [
    "# Exercise 1\n",
    "\n",
    "Instead of using the NLTK library to load data, try another method to load twitter data"
   ]
  },
  {
   "cell_type": "code",
   "execution_count": 53,
   "metadata": {
    "id": "qmJ_9835UACV"
   },
   "outputs": [
    {
     "data": {
      "text/html": [
       "<div>\n",
       "<style scoped>\n",
       "    .dataframe tbody tr th:only-of-type {\n",
       "        vertical-align: middle;\n",
       "    }\n",
       "\n",
       "    .dataframe tbody tr th {\n",
       "        vertical-align: top;\n",
       "    }\n",
       "\n",
       "    .dataframe thead th {\n",
       "        text-align: right;\n",
       "    }\n",
       "</style>\n",
       "<table border=\"1\" class=\"dataframe\">\n",
       "  <thead>\n",
       "    <tr style=\"text-align: right;\">\n",
       "      <th></th>\n",
       "      <th>contributors</th>\n",
       "      <th>coordinates</th>\n",
       "      <th>text</th>\n",
       "      <th>user</th>\n",
       "      <th>retweet_count</th>\n",
       "      <th>favorited</th>\n",
       "      <th>entities</th>\n",
       "      <th>source</th>\n",
       "      <th>truncated</th>\n",
       "      <th>geo</th>\n",
       "      <th>...</th>\n",
       "      <th>in_reply_to_user_id</th>\n",
       "      <th>created_at</th>\n",
       "      <th>metadata</th>\n",
       "      <th>favorite_count</th>\n",
       "      <th>id_str</th>\n",
       "      <th>id</th>\n",
       "      <th>possibly_sensitive</th>\n",
       "      <th>quoted_status_id</th>\n",
       "      <th>quoted_status</th>\n",
       "      <th>quoted_status_id_str</th>\n",
       "    </tr>\n",
       "  </thead>\n",
       "  <tbody>\n",
       "    <tr>\n",
       "      <th>0</th>\n",
       "      <td>NaN</td>\n",
       "      <td>None</td>\n",
       "      <td>#FollowFriday @France_Inte @PKuchly57 @Milipol...</td>\n",
       "      <td>{'time_zone': 'Paris', 'profile_background_ima...</td>\n",
       "      <td>0</td>\n",
       "      <td>False</td>\n",
       "      <td>{'hashtags': [{'indices': [0, 13], 'text': 'Fo...</td>\n",
       "      <td>&lt;a href=\"https://commun.it\" rel=\"nofollow\"&gt;Com...</td>\n",
       "      <td>False</td>\n",
       "      <td>None</td>\n",
       "      <td>...</td>\n",
       "      <td>NaN</td>\n",
       "      <td>2015-07-24 08:23:36+00:00</td>\n",
       "      <td>{'iso_language_code': 'en', 'result_type': 're...</td>\n",
       "      <td>0</td>\n",
       "      <td>624495129303351296</td>\n",
       "      <td>624495129303351296</td>\n",
       "      <td>NaN</td>\n",
       "      <td>NaN</td>\n",
       "      <td>NaN</td>\n",
       "      <td>NaN</td>\n",
       "    </tr>\n",
       "    <tr>\n",
       "      <th>1</th>\n",
       "      <td>NaN</td>\n",
       "      <td>None</td>\n",
       "      <td>@Lamb2ja Hey James! How odd :/ Please call our...</td>\n",
       "      <td>{'time_zone': 'London', 'profile_background_im...</td>\n",
       "      <td>0</td>\n",
       "      <td>False</td>\n",
       "      <td>{'hashtags': [], 'user_mentions': [{'screen_na...</td>\n",
       "      <td>&lt;a href=\"http://twitter.com\" rel=\"nofollow\"&gt;Tw...</td>\n",
       "      <td>False</td>\n",
       "      <td>None</td>\n",
       "      <td>...</td>\n",
       "      <td>19458835.0</td>\n",
       "      <td>2015-07-24 08:23:35+00:00</td>\n",
       "      <td>{'iso_language_code': 'en', 'result_type': 're...</td>\n",
       "      <td>0</td>\n",
       "      <td>624495128510656512</td>\n",
       "      <td>624495128510656513</td>\n",
       "      <td>NaN</td>\n",
       "      <td>NaN</td>\n",
       "      <td>NaN</td>\n",
       "      <td>NaN</td>\n",
       "    </tr>\n",
       "    <tr>\n",
       "      <th>2</th>\n",
       "      <td>NaN</td>\n",
       "      <td>None</td>\n",
       "      <td>@DespiteOfficial we had a listen last night :)...</td>\n",
       "      <td>{'time_zone': 'Casablanca', 'profile_backgroun...</td>\n",
       "      <td>0</td>\n",
       "      <td>False</td>\n",
       "      <td>{'hashtags': [], 'user_mentions': [{'screen_na...</td>\n",
       "      <td>&lt;a href=\"http://twitter.com\" rel=\"nofollow\"&gt;Tw...</td>\n",
       "      <td>False</td>\n",
       "      <td>None</td>\n",
       "      <td>...</td>\n",
       "      <td>275918243.0</td>\n",
       "      <td>2015-07-24 08:23:35+00:00</td>\n",
       "      <td>{'iso_language_code': 'en', 'result_type': 're...</td>\n",
       "      <td>0</td>\n",
       "      <td>624495126535106560</td>\n",
       "      <td>624495126535106560</td>\n",
       "      <td>NaN</td>\n",
       "      <td>NaN</td>\n",
       "      <td>NaN</td>\n",
       "      <td>NaN</td>\n",
       "    </tr>\n",
       "    <tr>\n",
       "      <th>3</th>\n",
       "      <td>NaN</td>\n",
       "      <td>None</td>\n",
       "      <td>@97sides CONGRATS :)</td>\n",
       "      <td>{'time_zone': 'Paris', 'profile_background_ima...</td>\n",
       "      <td>0</td>\n",
       "      <td>False</td>\n",
       "      <td>{'hashtags': [], 'user_mentions': [{'screen_na...</td>\n",
       "      <td>&lt;a href=\"http://twitter.com/download/iphone\" r...</td>\n",
       "      <td>False</td>\n",
       "      <td>None</td>\n",
       "      <td>...</td>\n",
       "      <td>774644509.0</td>\n",
       "      <td>2015-07-24 08:23:35+00:00</td>\n",
       "      <td>{'iso_language_code': 'en', 'result_type': 're...</td>\n",
       "      <td>0</td>\n",
       "      <td>624495126170238976</td>\n",
       "      <td>624495126170238976</td>\n",
       "      <td>NaN</td>\n",
       "      <td>NaN</td>\n",
       "      <td>NaN</td>\n",
       "      <td>NaN</td>\n",
       "    </tr>\n",
       "    <tr>\n",
       "      <th>4</th>\n",
       "      <td>NaN</td>\n",
       "      <td>None</td>\n",
       "      <td>yeaaaah yippppy!!!  my accnt verified rqst has...</td>\n",
       "      <td>{'time_zone': None, 'profile_background_image_...</td>\n",
       "      <td>0</td>\n",
       "      <td>False</td>\n",
       "      <td>{'hashtags': [], 'user_mentions': [], 'urls': ...</td>\n",
       "      <td>&lt;a href=\"https://mobile.twitter.com\" rel=\"nofo...</td>\n",
       "      <td>False</td>\n",
       "      <td>None</td>\n",
       "      <td>...</td>\n",
       "      <td>NaN</td>\n",
       "      <td>2015-07-24 08:23:34+00:00</td>\n",
       "      <td>{'iso_language_code': 'en', 'result_type': 're...</td>\n",
       "      <td>0</td>\n",
       "      <td>624495124148391936</td>\n",
       "      <td>624495124148391936</td>\n",
       "      <td>NaN</td>\n",
       "      <td>NaN</td>\n",
       "      <td>NaN</td>\n",
       "      <td>NaN</td>\n",
       "    </tr>\n",
       "  </tbody>\n",
       "</table>\n",
       "<p>5 rows × 28 columns</p>\n",
       "</div>"
      ],
      "text/plain": [
       "   contributors coordinates  \\\n",
       "0           NaN        None   \n",
       "1           NaN        None   \n",
       "2           NaN        None   \n",
       "3           NaN        None   \n",
       "4           NaN        None   \n",
       "\n",
       "                                                text  \\\n",
       "0  #FollowFriday @France_Inte @PKuchly57 @Milipol...   \n",
       "1  @Lamb2ja Hey James! How odd :/ Please call our...   \n",
       "2  @DespiteOfficial we had a listen last night :)...   \n",
       "3                               @97sides CONGRATS :)   \n",
       "4  yeaaaah yippppy!!!  my accnt verified rqst has...   \n",
       "\n",
       "                                                user  retweet_count  \\\n",
       "0  {'time_zone': 'Paris', 'profile_background_ima...              0   \n",
       "1  {'time_zone': 'London', 'profile_background_im...              0   \n",
       "2  {'time_zone': 'Casablanca', 'profile_backgroun...              0   \n",
       "3  {'time_zone': 'Paris', 'profile_background_ima...              0   \n",
       "4  {'time_zone': None, 'profile_background_image_...              0   \n",
       "\n",
       "   favorited                                           entities  \\\n",
       "0      False  {'hashtags': [{'indices': [0, 13], 'text': 'Fo...   \n",
       "1      False  {'hashtags': [], 'user_mentions': [{'screen_na...   \n",
       "2      False  {'hashtags': [], 'user_mentions': [{'screen_na...   \n",
       "3      False  {'hashtags': [], 'user_mentions': [{'screen_na...   \n",
       "4      False  {'hashtags': [], 'user_mentions': [], 'urls': ...   \n",
       "\n",
       "                                              source  truncated   geo  ...  \\\n",
       "0  <a href=\"https://commun.it\" rel=\"nofollow\">Com...      False  None  ...   \n",
       "1  <a href=\"http://twitter.com\" rel=\"nofollow\">Tw...      False  None  ...   \n",
       "2  <a href=\"http://twitter.com\" rel=\"nofollow\">Tw...      False  None  ...   \n",
       "3  <a href=\"http://twitter.com/download/iphone\" r...      False  None  ...   \n",
       "4  <a href=\"https://mobile.twitter.com\" rel=\"nofo...      False  None  ...   \n",
       "\n",
       "   in_reply_to_user_id                created_at  \\\n",
       "0                  NaN 2015-07-24 08:23:36+00:00   \n",
       "1           19458835.0 2015-07-24 08:23:35+00:00   \n",
       "2          275918243.0 2015-07-24 08:23:35+00:00   \n",
       "3          774644509.0 2015-07-24 08:23:35+00:00   \n",
       "4                  NaN 2015-07-24 08:23:34+00:00   \n",
       "\n",
       "                                            metadata favorite_count  \\\n",
       "0  {'iso_language_code': 'en', 'result_type': 're...              0   \n",
       "1  {'iso_language_code': 'en', 'result_type': 're...              0   \n",
       "2  {'iso_language_code': 'en', 'result_type': 're...              0   \n",
       "3  {'iso_language_code': 'en', 'result_type': 're...              0   \n",
       "4  {'iso_language_code': 'en', 'result_type': 're...              0   \n",
       "\n",
       "               id_str                  id possibly_sensitive  \\\n",
       "0  624495129303351296  624495129303351296                NaN   \n",
       "1  624495128510656512  624495128510656513                NaN   \n",
       "2  624495126535106560  624495126535106560                NaN   \n",
       "3  624495126170238976  624495126170238976                NaN   \n",
       "4  624495124148391936  624495124148391936                NaN   \n",
       "\n",
       "   quoted_status_id  quoted_status quoted_status_id_str  \n",
       "0               NaN            NaN                  NaN  \n",
       "1               NaN            NaN                  NaN  \n",
       "2               NaN            NaN                  NaN  \n",
       "3               NaN            NaN                  NaN  \n",
       "4               NaN            NaN                  NaN  \n",
       "\n",
       "[5 rows x 28 columns]"
      ]
     },
     "execution_count": 53,
     "metadata": {},
     "output_type": "execute_result"
    }
   ],
   "source": [
    "# Exercise 1 Solution\n",
    "import pandas as pd\n",
    "\n",
    "positive_tweets = pd.read_json('positive_tweets.json', lines=True)\n",
    "positive_tweets.head()\n"
   ]
  },
  {
   "cell_type": "code",
   "execution_count": 55,
   "metadata": {},
   "outputs": [
    {
     "data": {
      "text/html": [
       "<div>\n",
       "<style scoped>\n",
       "    .dataframe tbody tr th:only-of-type {\n",
       "        vertical-align: middle;\n",
       "    }\n",
       "\n",
       "    .dataframe tbody tr th {\n",
       "        vertical-align: top;\n",
       "    }\n",
       "\n",
       "    .dataframe thead th {\n",
       "        text-align: right;\n",
       "    }\n",
       "</style>\n",
       "<table border=\"1\" class=\"dataframe\">\n",
       "  <thead>\n",
       "    <tr style=\"text-align: right;\">\n",
       "      <th></th>\n",
       "      <th>contributors</th>\n",
       "      <th>coordinates</th>\n",
       "      <th>text</th>\n",
       "      <th>user</th>\n",
       "      <th>retweet_count</th>\n",
       "      <th>favorited</th>\n",
       "      <th>entities</th>\n",
       "      <th>source</th>\n",
       "      <th>truncated</th>\n",
       "      <th>geo</th>\n",
       "      <th>...</th>\n",
       "      <th>in_reply_to_user_id</th>\n",
       "      <th>created_at</th>\n",
       "      <th>metadata</th>\n",
       "      <th>favorite_count</th>\n",
       "      <th>id_str</th>\n",
       "      <th>id</th>\n",
       "      <th>quoted_status</th>\n",
       "      <th>quoted_status_id</th>\n",
       "      <th>possibly_sensitive</th>\n",
       "      <th>quoted_status_id_str</th>\n",
       "    </tr>\n",
       "  </thead>\n",
       "  <tbody>\n",
       "    <tr>\n",
       "      <th>0</th>\n",
       "      <td>NaN</td>\n",
       "      <td>None</td>\n",
       "      <td>hopeless for tmr :(</td>\n",
       "      <td>{'screen_name': 'yuwraxkim', 'time_zone': 'Jak...</td>\n",
       "      <td>0</td>\n",
       "      <td>False</td>\n",
       "      <td>{'hashtags': [], 'user_mentions': [], 'urls': ...</td>\n",
       "      <td>&lt;a href=\"https://mobile.twitter.com\" rel=\"nofo...</td>\n",
       "      <td>False</td>\n",
       "      <td>None</td>\n",
       "      <td>...</td>\n",
       "      <td>NaN</td>\n",
       "      <td>2015-07-24 10:42:49+00:00</td>\n",
       "      <td>{'iso_language_code': 'en', 'result_type': 're...</td>\n",
       "      <td>0</td>\n",
       "      <td>624530164626534400</td>\n",
       "      <td>624530164626534400</td>\n",
       "      <td>NaN</td>\n",
       "      <td>NaN</td>\n",
       "      <td>NaN</td>\n",
       "      <td>NaN</td>\n",
       "    </tr>\n",
       "    <tr>\n",
       "      <th>1</th>\n",
       "      <td>NaN</td>\n",
       "      <td>None</td>\n",
       "      <td>Everything in the kids section of IKEA is so c...</td>\n",
       "      <td>{'screen_name': 'EveHollyHousley', 'time_zone'...</td>\n",
       "      <td>0</td>\n",
       "      <td>False</td>\n",
       "      <td>{'hashtags': [], 'user_mentions': [], 'urls': ...</td>\n",
       "      <td>&lt;a href=\"http://twitter.com/download/iphone\" r...</td>\n",
       "      <td>False</td>\n",
       "      <td>None</td>\n",
       "      <td>...</td>\n",
       "      <td>NaN</td>\n",
       "      <td>2015-07-24 10:42:48+00:00</td>\n",
       "      <td>{'iso_language_code': 'en', 'result_type': 're...</td>\n",
       "      <td>0</td>\n",
       "      <td>624530162890219520</td>\n",
       "      <td>624530162890219521</td>\n",
       "      <td>NaN</td>\n",
       "      <td>NaN</td>\n",
       "      <td>NaN</td>\n",
       "      <td>NaN</td>\n",
       "    </tr>\n",
       "    <tr>\n",
       "      <th>2</th>\n",
       "      <td>NaN</td>\n",
       "      <td>None</td>\n",
       "      <td>@Hegelbon That heart sliding into the waste ba...</td>\n",
       "      <td>{'screen_name': 'prostgrad', 'time_zone': 'Ath...</td>\n",
       "      <td>0</td>\n",
       "      <td>False</td>\n",
       "      <td>{'hashtags': [], 'user_mentions': [{'id_str': ...</td>\n",
       "      <td>&lt;a href=\"http://twitter.com\" rel=\"nofollow\"&gt;Tw...</td>\n",
       "      <td>False</td>\n",
       "      <td>None</td>\n",
       "      <td>...</td>\n",
       "      <td>1.633281e+09</td>\n",
       "      <td>2015-07-24 10:42:48+00:00</td>\n",
       "      <td>{'iso_language_code': 'en', 'result_type': 're...</td>\n",
       "      <td>1</td>\n",
       "      <td>624530162600812544</td>\n",
       "      <td>624530162600812544</td>\n",
       "      <td>NaN</td>\n",
       "      <td>NaN</td>\n",
       "      <td>NaN</td>\n",
       "      <td>NaN</td>\n",
       "    </tr>\n",
       "    <tr>\n",
       "      <th>3</th>\n",
       "      <td>NaN</td>\n",
       "      <td>None</td>\n",
       "      <td>“@ketchBurning: I hate Japanese call him \"bani...</td>\n",
       "      <td>{'screen_name': 'burningyoppy', 'time_zone': '...</td>\n",
       "      <td>0</td>\n",
       "      <td>False</td>\n",
       "      <td>{'hashtags': [], 'user_mentions': [{'id_str': ...</td>\n",
       "      <td>&lt;a href=\"http://twitter.com/download/iphone\" r...</td>\n",
       "      <td>False</td>\n",
       "      <td>None</td>\n",
       "      <td>...</td>\n",
       "      <td>2.185486e+08</td>\n",
       "      <td>2015-07-24 10:42:48+00:00</td>\n",
       "      <td>{'iso_language_code': 'en', 'result_type': 're...</td>\n",
       "      <td>0</td>\n",
       "      <td>624530161011048448</td>\n",
       "      <td>624530161011048448</td>\n",
       "      <td>NaN</td>\n",
       "      <td>NaN</td>\n",
       "      <td>NaN</td>\n",
       "      <td>NaN</td>\n",
       "    </tr>\n",
       "    <tr>\n",
       "      <th>4</th>\n",
       "      <td>NaN</td>\n",
       "      <td>None</td>\n",
       "      <td>Dang starting next week I have \"work\" :(</td>\n",
       "      <td>{'screen_name': '3angiefalangie', 'time_zone':...</td>\n",
       "      <td>0</td>\n",
       "      <td>False</td>\n",
       "      <td>{'hashtags': [], 'user_mentions': [], 'urls': ...</td>\n",
       "      <td>&lt;a href=\"http://twitter.com/download/iphone\" r...</td>\n",
       "      <td>False</td>\n",
       "      <td>None</td>\n",
       "      <td>...</td>\n",
       "      <td>NaN</td>\n",
       "      <td>2015-07-24 10:42:47+00:00</td>\n",
       "      <td>{'iso_language_code': 'en', 'result_type': 're...</td>\n",
       "      <td>0</td>\n",
       "      <td>624530159928934400</td>\n",
       "      <td>624530159928934400</td>\n",
       "      <td>NaN</td>\n",
       "      <td>NaN</td>\n",
       "      <td>NaN</td>\n",
       "      <td>NaN</td>\n",
       "    </tr>\n",
       "  </tbody>\n",
       "</table>\n",
       "<p>5 rows × 28 columns</p>\n",
       "</div>"
      ],
      "text/plain": [
       "   contributors coordinates  \\\n",
       "0           NaN        None   \n",
       "1           NaN        None   \n",
       "2           NaN        None   \n",
       "3           NaN        None   \n",
       "4           NaN        None   \n",
       "\n",
       "                                                text  \\\n",
       "0                                hopeless for tmr :(   \n",
       "1  Everything in the kids section of IKEA is so c...   \n",
       "2  @Hegelbon That heart sliding into the waste ba...   \n",
       "3  “@ketchBurning: I hate Japanese call him \"bani...   \n",
       "4           Dang starting next week I have \"work\" :(   \n",
       "\n",
       "                                                user  retweet_count  \\\n",
       "0  {'screen_name': 'yuwraxkim', 'time_zone': 'Jak...              0   \n",
       "1  {'screen_name': 'EveHollyHousley', 'time_zone'...              0   \n",
       "2  {'screen_name': 'prostgrad', 'time_zone': 'Ath...              0   \n",
       "3  {'screen_name': 'burningyoppy', 'time_zone': '...              0   \n",
       "4  {'screen_name': '3angiefalangie', 'time_zone':...              0   \n",
       "\n",
       "   favorited                                           entities  \\\n",
       "0      False  {'hashtags': [], 'user_mentions': [], 'urls': ...   \n",
       "1      False  {'hashtags': [], 'user_mentions': [], 'urls': ...   \n",
       "2      False  {'hashtags': [], 'user_mentions': [{'id_str': ...   \n",
       "3      False  {'hashtags': [], 'user_mentions': [{'id_str': ...   \n",
       "4      False  {'hashtags': [], 'user_mentions': [], 'urls': ...   \n",
       "\n",
       "                                              source  truncated   geo  ...  \\\n",
       "0  <a href=\"https://mobile.twitter.com\" rel=\"nofo...      False  None  ...   \n",
       "1  <a href=\"http://twitter.com/download/iphone\" r...      False  None  ...   \n",
       "2  <a href=\"http://twitter.com\" rel=\"nofollow\">Tw...      False  None  ...   \n",
       "3  <a href=\"http://twitter.com/download/iphone\" r...      False  None  ...   \n",
       "4  <a href=\"http://twitter.com/download/iphone\" r...      False  None  ...   \n",
       "\n",
       "   in_reply_to_user_id                created_at  \\\n",
       "0                  NaN 2015-07-24 10:42:49+00:00   \n",
       "1                  NaN 2015-07-24 10:42:48+00:00   \n",
       "2         1.633281e+09 2015-07-24 10:42:48+00:00   \n",
       "3         2.185486e+08 2015-07-24 10:42:48+00:00   \n",
       "4                  NaN 2015-07-24 10:42:47+00:00   \n",
       "\n",
       "                                            metadata favorite_count  \\\n",
       "0  {'iso_language_code': 'en', 'result_type': 're...              0   \n",
       "1  {'iso_language_code': 'en', 'result_type': 're...              0   \n",
       "2  {'iso_language_code': 'en', 'result_type': 're...              1   \n",
       "3  {'iso_language_code': 'en', 'result_type': 're...              0   \n",
       "4  {'iso_language_code': 'en', 'result_type': 're...              0   \n",
       "\n",
       "               id_str                  id quoted_status  quoted_status_id  \\\n",
       "0  624530164626534400  624530164626534400           NaN               NaN   \n",
       "1  624530162890219520  624530162890219521           NaN               NaN   \n",
       "2  624530162600812544  624530162600812544           NaN               NaN   \n",
       "3  624530161011048448  624530161011048448           NaN               NaN   \n",
       "4  624530159928934400  624530159928934400           NaN               NaN   \n",
       "\n",
       "   possibly_sensitive quoted_status_id_str  \n",
       "0                 NaN                  NaN  \n",
       "1                 NaN                  NaN  \n",
       "2                 NaN                  NaN  \n",
       "3                 NaN                  NaN  \n",
       "4                 NaN                  NaN  \n",
       "\n",
       "[5 rows x 28 columns]"
      ]
     },
     "execution_count": 55,
     "metadata": {},
     "output_type": "execute_result"
    }
   ],
   "source": [
    "negative_tweets = pd.read_json('negative_tweets.json', lines=True)\n",
    "negative_tweets.head()"
   ]
  },
  {
   "cell_type": "markdown",
   "metadata": {
    "id": "NFHbv-yw3pz_"
   },
   "source": [
    "Next, we'll print a report with the number of positive and negative tweets. It is also essential to know the data structure of the datasets"
   ]
  },
  {
   "cell_type": "code",
   "execution_count": 35,
   "metadata": {
    "colab": {
     "base_uri": "https://localhost:8080/"
    },
    "id": "sqfofh2h3pz_",
    "outputId": "5ba75a48-654a-44de-baf5-333f68c21159"
   },
   "outputs": [
    {
     "name": "stdout",
     "output_type": "stream",
     "text": [
      "Number of positive tweets:  5000\n",
      "Number of negative tweets:  5000\n",
      "\n",
      "The type of all_positive_tweets is:  <class 'list'>\n",
      "The type of a tweet entry is:  <class 'str'>\n"
     ]
    }
   ],
   "source": [
    "print('Number of positive tweets: ', len(all_positive_tweets))\n",
    "print('Number of negative tweets: ', len(all_negative_tweets))\n",
    "\n",
    "print('\\nThe type of all_positive_tweets is: ', type(all_positive_tweets))\n",
    "print('The type of a tweet entry is: ', type(all_negative_tweets[0]))"
   ]
  },
  {
   "cell_type": "markdown",
   "metadata": {
    "id": "eSdJBEMA3p0A"
   },
   "source": [
    "We can see that the data is stored in a list and as you might expect, individual tweets are stored as strings.\n",
    "\n",
    "You can make a more visually appealing report by using Matplotlib's [pyplot](https://matplotlib.org/tutorials/introductory/pyplot.html) library. Let us see how to create a [pie chart](https://matplotlib.org/3.2.1/gallery/pie_and_polar_charts/pie_features.html#sphx-glr-gallery-pie-and-polar-charts-pie-features-py) to show the same information as above. This simple snippet will serve you in future visualizations of this kind of data."
   ]
  },
  {
   "cell_type": "code",
   "execution_count": 37,
   "metadata": {
    "colab": {
     "base_uri": "https://localhost:8080/",
     "height": 422
    },
    "id": "v3R0PdKS3p0A",
    "outputId": "e216c9c1-aae8-4fdf-ccd4-a0c262552bb4"
   },
   "outputs": [
    {
     "data": {
      "image/png": "[encoded data removed]",
      "text/plain": [
       "<Figure size 500x500 with 1 Axes>"
      ]
     },
     "metadata": {},
     "output_type": "display_data"
    }
   ],
   "source": [
    "# Declare a figure with a custom size\n",
    "fig = plt.figure(figsize=(5, 5))\n",
    "\n",
    "# labels for the two classes\n",
    "labels = 'Positives', 'Negative'\n",
    "\n",
    "# Sizes for each slide\n",
    "sizes = [len(all_positive_tweets), len(all_negative_tweets)]\n",
    "\n",
    "# Declare pie chart, where the slices will be ordered and plotted counter-clockwise:\n",
    "plt.pie(sizes, labels=labels, autopct='%1.1f%%',\n",
    "        shadow=True, startangle=90)\n",
    "\n",
    "# Equal aspect ratio ensures that pie is drawn as a circle.\n",
    "plt.axis('equal')\n",
    "\n",
    "# Display the chart\n",
    "plt.show()"
   ]
  },
  {
   "cell_type": "markdown",
   "metadata": {
    "id": "AjX9-NNR3p0A"
   },
   "source": [
    "## Step 2: Preprocessing the Text\n",
    "\n",
    "\n",
    "Before anything else, we can print a couple of tweets from the dataset to see how they look. Understanding the data is responsible for 80% of the success or failure in data science projects. We can use this time to observe aspects we'd like to consider when preprocessing our data.\n",
    "\n",
    "Below, you will print one random positive and one random negative tweet. We have added a color mark at the beginning of the string to further distinguish the two."
   ]
  },
  {
   "cell_type": "code",
   "execution_count": 39,
   "metadata": {
    "colab": {
     "base_uri": "https://localhost:8080/"
    },
    "id": "K7O_QIWD3p0B",
    "outputId": "50c3381a-7de7-4cf3-e4b5-dd308b9561ca"
   },
   "outputs": [
    {
     "name": "stdout",
     "output_type": "stream",
     "text": [
      "\u001b[92m@txqiuddin have fun boy!! :D\n",
      "\u001b[91mDon't be like that :(  https://t.co/gaWf0bsr6A\n"
     ]
    }
   ],
   "source": [
    "# print positive in greeen\n",
    "print('\\033[92m' + all_positive_tweets[random.randint(0,5000)])\n",
    "\n",
    "# print negative in red\n",
    "print('\\033[91m' + all_negative_tweets[random.randint(0,5000)])"
   ]
  },
  {
   "cell_type": "code",
   "execution_count": 71,
   "metadata": {
    "id": "e1Mf6aRtWJ3A"
   },
   "outputs": [
    {
     "name": "stdout",
     "output_type": "stream",
     "text": [
      "   contributors coordinates  \\\n",
      "0           NaN        None   \n",
      "1           NaN        None   \n",
      "2           NaN        None   \n",
      "3           NaN        None   \n",
      "4           NaN        None   \n",
      "\n",
      "                                                text  \\\n",
      "0  #FollowFriday @France_Inte @PKuchly57 @Milipol...   \n",
      "1  @Lamb2ja Hey James! How odd :/ Please call our...   \n",
      "2  @DespiteOfficial we had a listen last night :)...   \n",
      "3                               @97sides CONGRATS :)   \n",
      "4  yeaaaah yippppy!!!  my accnt verified rqst has...   \n",
      "\n",
      "                                                user  retweet_count  \\\n",
      "0  {'time_zone': 'Paris', 'profile_background_ima...              0   \n",
      "1  {'time_zone': 'London', 'profile_background_im...              0   \n",
      "2  {'time_zone': 'Casablanca', 'profile_backgroun...              0   \n",
      "3  {'time_zone': 'Paris', 'profile_background_ima...              0   \n",
      "4  {'time_zone': None, 'profile_background_image_...              0   \n",
      "\n",
      "   favorited                                           entities  \\\n",
      "0      False  {'hashtags': [{'indices': [0, 13], 'text': 'Fo...   \n",
      "1      False  {'hashtags': [], 'user_mentions': [{'screen_na...   \n",
      "2      False  {'hashtags': [], 'user_mentions': [{'screen_na...   \n",
      "3      False  {'hashtags': [], 'user_mentions': [{'screen_na...   \n",
      "4      False  {'hashtags': [], 'user_mentions': [], 'urls': ...   \n",
      "\n",
      "                                              source  truncated   geo  ...  \\\n",
      "0  <a href=\"https://commun.it\" rel=\"nofollow\">Com...      False  None  ...   \n",
      "1  <a href=\"http://twitter.com\" rel=\"nofollow\">Tw...      False  None  ...   \n",
      "2  <a href=\"http://twitter.com\" rel=\"nofollow\">Tw...      False  None  ...   \n",
      "3  <a href=\"http://twitter.com/download/iphone\" r...      False  None  ...   \n",
      "4  <a href=\"https://mobile.twitter.com\" rel=\"nofo...      False  None  ...   \n",
      "\n",
      "   in_reply_to_user_id                created_at  \\\n",
      "0                  NaN 2015-07-24 08:23:36+00:00   \n",
      "1           19458835.0 2015-07-24 08:23:35+00:00   \n",
      "2          275918243.0 2015-07-24 08:23:35+00:00   \n",
      "3          774644509.0 2015-07-24 08:23:35+00:00   \n",
      "4                  NaN 2015-07-24 08:23:34+00:00   \n",
      "\n",
      "                                            metadata favorite_count  \\\n",
      "0  {'iso_language_code': 'en', 'result_type': 're...              0   \n",
      "1  {'iso_language_code': 'en', 'result_type': 're...              0   \n",
      "2  {'iso_language_code': 'en', 'result_type': 're...              0   \n",
      "3  {'iso_language_code': 'en', 'result_type': 're...              0   \n",
      "4  {'iso_language_code': 'en', 'result_type': 're...              0   \n",
      "\n",
      "               id_str                  id possibly_sensitive  \\\n",
      "0  624495129303351296  624495129303351296                NaN   \n",
      "1  624495128510656512  624495128510656513                NaN   \n",
      "2  624495126535106560  624495126535106560                NaN   \n",
      "3  624495126170238976  624495126170238976                NaN   \n",
      "4  624495124148391936  624495124148391936                NaN   \n",
      "\n",
      "   quoted_status_id  quoted_status quoted_status_id_str  \n",
      "0               NaN            NaN                  NaN  \n",
      "1               NaN            NaN                  NaN  \n",
      "2               NaN            NaN                  NaN  \n",
      "3               NaN            NaN                  NaN  \n",
      "4               NaN            NaN                  NaN  \n",
      "\n",
      "[5 rows x 28 columns]\n",
      "   contributors coordinates  \\\n",
      "0           NaN        None   \n",
      "1           NaN        None   \n",
      "2           NaN        None   \n",
      "3           NaN        None   \n",
      "4           NaN        None   \n",
      "\n",
      "                                                text  \\\n",
      "0                                hopeless for tmr :(   \n",
      "1  Everything in the kids section of IKEA is so c...   \n",
      "2  @Hegelbon That heart sliding into the waste ba...   \n",
      "3  “@ketchBurning: I hate Japanese call him \"bani...   \n",
      "4           Dang starting next week I have \"work\" :(   \n",
      "\n",
      "                                                user  retweet_count  \\\n",
      "0  {'screen_name': 'yuwraxkim', 'time_zone': 'Jak...              0   \n",
      "1  {'screen_name': 'EveHollyHousley', 'time_zone'...              0   \n",
      "2  {'screen_name': 'prostgrad', 'time_zone': 'Ath...              0   \n",
      "3  {'screen_name': 'burningyoppy', 'time_zone': '...              0   \n",
      "4  {'screen_name': '3angiefalangie', 'time_zone':...              0   \n",
      "\n",
      "   favorited                                           entities  \\\n",
      "0      False  {'hashtags': [], 'user_mentions': [], 'urls': ...   \n",
      "1      False  {'hashtags': [], 'user_mentions': [], 'urls': ...   \n",
      "2      False  {'hashtags': [], 'user_mentions': [{'id_str': ...   \n",
      "3      False  {'hashtags': [], 'user_mentions': [{'id_str': ...   \n",
      "4      False  {'hashtags': [], 'user_mentions': [], 'urls': ...   \n",
      "\n",
      "                                              source  truncated   geo  ...  \\\n",
      "0  <a href=\"https://mobile.twitter.com\" rel=\"nofo...      False  None  ...   \n",
      "1  <a href=\"http://twitter.com/download/iphone\" r...      False  None  ...   \n",
      "2  <a href=\"http://twitter.com\" rel=\"nofollow\">Tw...      False  None  ...   \n",
      "3  <a href=\"http://twitter.com/download/iphone\" r...      False  None  ...   \n",
      "4  <a href=\"http://twitter.com/download/iphone\" r...      False  None  ...   \n",
      "\n",
      "   in_reply_to_user_id                created_at  \\\n",
      "0                  NaN 2015-07-24 10:42:49+00:00   \n",
      "1                  NaN 2015-07-24 10:42:48+00:00   \n",
      "2         1.633281e+09 2015-07-24 10:42:48+00:00   \n",
      "3         2.185486e+08 2015-07-24 10:42:48+00:00   \n",
      "4                  NaN 2015-07-24 10:42:47+00:00   \n",
      "\n",
      "                                            metadata favorite_count  \\\n",
      "0  {'iso_language_code': 'en', 'result_type': 're...              0   \n",
      "1  {'iso_language_code': 'en', 'result_type': 're...              0   \n",
      "2  {'iso_language_code': 'en', 'result_type': 're...              1   \n",
      "3  {'iso_language_code': 'en', 'result_type': 're...              0   \n",
      "4  {'iso_language_code': 'en', 'result_type': 're...              0   \n",
      "\n",
      "               id_str                  id quoted_status  quoted_status_id  \\\n",
      "0  624530164626534400  624530164626534400           NaN               NaN   \n",
      "1  624530162890219520  624530162890219521           NaN               NaN   \n",
      "2  624530162600812544  624530162600812544           NaN               NaN   \n",
      "3  624530161011048448  624530161011048448           NaN               NaN   \n",
      "4  624530159928934400  624530159928934400           NaN               NaN   \n",
      "\n",
      "   possibly_sensitive quoted_status_id_str  \n",
      "0                 NaN                  NaN  \n",
      "1                 NaN                  NaN  \n",
      "2                 NaN                  NaN  \n",
      "3                 NaN                  NaN  \n",
      "4                 NaN                  NaN  \n",
      "\n",
      "[5 rows x 28 columns]\n",
      "      contributors coordinates  \\\n",
      "4995           NaN        None   \n",
      "4996           NaN        None   \n",
      "4997           NaN        None   \n",
      "4998           NaN        None   \n",
      "4999           NaN        None   \n",
      "\n",
      "                                                   text  \\\n",
      "4995  @chriswiggin3 Chris, that's great to hear :) D...   \n",
      "4996  @RachelLiskeard Thanks for the shout-out :) It...   \n",
      "4997            @side556 Hey!  :)  Long time no talk...   \n",
      "4998  @staybubbly69 as Matt would say. WELCOME TO AD...   \n",
      "4999  @DanielOConnel18 you could say he will have eg...   \n",
      "\n",
      "                                                   user  retweet_count  \\\n",
      "4995  {'time_zone': 'Amsterdam', 'profile_background...              0   \n",
      "4996  {'time_zone': 'London', 'profile_background_im...              0   \n",
      "4997  {'time_zone': 'Atlantic Time (Canada)', 'profi...              0   \n",
      "4998  {'time_zone': None, 'profile_background_image_...              0   \n",
      "4999  {'time_zone': 'Edinburgh', 'profile_background...              0   \n",
      "\n",
      "      favorited                                           entities  \\\n",
      "4995      False  {'hashtags': [], 'user_mentions': [{'screen_na...   \n",
      "4996      False  {'hashtags': [], 'user_mentions': [{'screen_na...   \n",
      "4997      False  {'hashtags': [], 'user_mentions': [{'screen_na...   \n",
      "4998      False  {'media': [{'media_url': 'http://pbs.twimg.com...   \n",
      "4999      False  {'hashtags': [], 'user_mentions': [{'screen_na...   \n",
      "\n",
      "                                                 source  truncated   geo  ...  \\\n",
      "4995  <a href=\"http://twitter.com\" rel=\"nofollow\">Tw...      False  None  ...   \n",
      "4996  <a href=\"http://www.socialsignin.co.uk\" rel=\"n...      False  None  ...   \n",
      "4997  <a href=\"http://twitter.com\" rel=\"nofollow\">Tw...      False  None  ...   \n",
      "4998  <a href=\"http://twitter.com/download/iphone\" r...      False  None  ...   \n",
      "4999  <a href=\"https://about.twitter.com/products/tw...      False  None  ...   \n",
      "\n",
      "      in_reply_to_user_id                created_at  \\\n",
      "4995         1.220013e+08 2015-07-24 08:11:16+00:00   \n",
      "4996         6.162055e+08 2015-07-24 08:11:16+00:00   \n",
      "4997         2.997713e+09 2015-07-24 08:11:16+00:00   \n",
      "4998         3.138322e+09 2015-07-24 08:11:16+00:00   \n",
      "4999         5.580347e+08 2015-07-24 08:11:16+00:00   \n",
      "\n",
      "                                               metadata favorite_count  \\\n",
      "4995  {'iso_language_code': 'en', 'result_type': 're...              0   \n",
      "4996  {'iso_language_code': 'en', 'result_type': 're...              0   \n",
      "4997  {'iso_language_code': 'en', 'result_type': 're...              0   \n",
      "4998  {'iso_language_code': 'en', 'result_type': 're...              0   \n",
      "4999  {'iso_language_code': 'en', 'result_type': 're...              0   \n",
      "\n",
      "                  id_str                  id possibly_sensitive  \\\n",
      "4995  624492028878061568  624492028878061569                NaN   \n",
      "4996  624492027833618432  624492027833618432                NaN   \n",
      "4997  624492027200335872  624492027200335872                NaN   \n",
      "4998  624492027107868672  624492027107868672                0.0   \n",
      "4999  624492026386624512  624492026386624512                NaN   \n",
      "\n",
      "      quoted_status_id  quoted_status quoted_status_id_str  \n",
      "4995               NaN            NaN                  NaN  \n",
      "4996               NaN            NaN                  NaN  \n",
      "4997               NaN            NaN                  NaN  \n",
      "4998               NaN            NaN                  NaN  \n",
      "4999               NaN            NaN                  NaN  \n",
      "\n",
      "[5 rows x 28 columns]\n",
      "      contributors coordinates  \\\n",
      "4995           NaN        None   \n",
      "4996           NaN        None   \n",
      "4997           NaN        None   \n",
      "4998           NaN        None   \n",
      "4999           NaN        None   \n",
      "\n",
      "                                                   text  \\\n",
      "4995               I wanna change my avi but uSanele :(   \n",
      "4996                         MY PUPPY BROKE HER FOOT :(   \n",
      "4997           where's all the jaebum baby pictures :((   \n",
      "4998  But but Mr Ahmad Maslan cooks too :( https://t...   \n",
      "4999  @eawoman As a Hull supporter I am expecting a ...   \n",
      "\n",
      "                                                   user  retweet_count  \\\n",
      "4995  {'screen_name': '__Zanele', 'time_zone': None,...              0   \n",
      "4996  {'screen_name': 'ShawnsToronto', 'time_zone': ...              0   \n",
      "4997  {'screen_name': 'backtomemp3', 'time_zone': 'E...              0   \n",
      "4998  {'screen_name': 'syafiqqah', 'time_zone': 'Kua...              0   \n",
      "4999  {'screen_name': 'AndrewByrom1', 'time_zone': N...              0   \n",
      "\n",
      "      favorited                                           entities  \\\n",
      "4995      False  {'hashtags': [], 'user_mentions': [], 'urls': ...   \n",
      "4996      False  {'hashtags': [], 'user_mentions': [], 'urls': ...   \n",
      "4997      False  {'hashtags': [], 'user_mentions': [], 'urls': ...   \n",
      "4998      False  {'hashtags': [], 'user_mentions': [], 'urls': ...   \n",
      "4999      False  {'hashtags': [], 'user_mentions': [{'id_str': ...   \n",
      "\n",
      "                                                 source  truncated   geo  ...  \\\n",
      "4995  <a href=\"http://twitter.com\" rel=\"nofollow\">Tw...      False  None  ...   \n",
      "4996  <a href=\"http://twitter.com/download/iphone\" r...      False  None  ...   \n",
      "4997  <a href=\"http://twitter.com/#!/download/ipad\" ...      False  None  ...   \n",
      "4998  <a href=\"http://twitter.com/download/android\" ...      False  None  ...   \n",
      "4999  <a href=\"http://twitter.com/download/android\" ...      False  None  ...   \n",
      "\n",
      "      in_reply_to_user_id                created_at  \\\n",
      "4995                  NaN 2015-07-24 09:49:40+00:00   \n",
      "4996                  NaN 2015-07-24 09:49:40+00:00   \n",
      "4997                  NaN 2015-07-24 09:49:38+00:00   \n",
      "4998                  NaN 2015-07-24 09:49:38+00:00   \n",
      "4999          289534486.0 2015-07-24 09:49:38+00:00   \n",
      "\n",
      "                                               metadata favorite_count  \\\n",
      "4995  {'iso_language_code': 'en', 'result_type': 're...              0   \n",
      "4996  {'iso_language_code': 'en', 'result_type': 're...              5   \n",
      "4997  {'iso_language_code': 'en', 'result_type': 're...              0   \n",
      "4998  {'iso_language_code': 'en', 'result_type': 're...              2   \n",
      "4999  {'iso_language_code': 'en', 'result_type': 're...              0   \n",
      "\n",
      "                  id_str                  id  \\\n",
      "4995  624516792388599808  624516792388599808   \n",
      "4996  624516790488551424  624516790488551424   \n",
      "4997  624516784289390592  624516784289390593   \n",
      "4998  624516784226340864  624516784226340864   \n",
      "4999  624516782557151232  624516782557151232   \n",
      "\n",
      "                                          quoted_status  quoted_status_id  \\\n",
      "4995                                                NaN               NaN   \n",
      "4996                                                NaN               NaN   \n",
      "4997                                                NaN               NaN   \n",
      "4998  {'contributors': None, 'coordinates': None, 't...      6.244883e+17   \n",
      "4999                                                NaN               NaN   \n",
      "\n",
      "      possibly_sensitive quoted_status_id_str  \n",
      "4995                 NaN                  NaN  \n",
      "4996                 NaN                  NaN  \n",
      "4997                 NaN                  NaN  \n",
      "4998                 0.0         6.244883e+17  \n",
      "4999                 NaN                  NaN  \n",
      "\n",
      "[5 rows x 28 columns]\n"
     ]
    }
   ],
   "source": [
    "# Try to print the first five line of the data using head() function\n",
    "print(positive_tweets.head())\n",
    "print(negative_tweets.head())\n",
    "\n",
    "# Try to print the last five line of the data using tail() function\n",
    "print(positive_tweets.tail())\n",
    "print(negative_tweets.tail())"
   ]
  },
  {
   "cell_type": "code",
   "execution_count": 57,
   "metadata": {
    "id": "VxmWljJTUSMy"
   },
   "outputs": [],
   "source": [
    "import pandas as pd\n",
    "df_positive = pd.DataFrame(all_positive_tweets, columns=['Tweet']) #convert from list to pandas dataframe\n"
   ]
  },
  {
   "cell_type": "markdown",
   "metadata": {
    "id": "gIRADu8Y3p0B"
   },
   "source": [
    "One observation you may have is the presence of [emoticons](https://en.wikipedia.org/wiki/Emoticon) and URLs in many of the tweets. This info will come in handy in the next steps."
   ]
  },
  {
   "cell_type": "markdown",
   "metadata": {
    "id": "ZVN9Oo6b3p0B"
   },
   "source": [
    "Data preprocessing is one of the critical steps in any machine learning project. It includes cleaning and formatting the data before feeding into a machine learning algorithm. For NLP, the preprocessing steps are comprised of the following tasks:\n",
    "\n",
    "* Lowercasing\n",
    "* Removing stop words and punctuation\n",
    "* Tokenization\n",
    "* Stemming\n",
    "......\n",
    "\n"
   ]
  },
  {
   "cell_type": "code",
   "execution_count": 59,
   "metadata": {
    "colab": {
     "base_uri": "https://localhost:8080/"
    },
    "id": "h5pfdyqd3p0B",
    "outputId": "4ed05ea9-b004-40b6-ad1a-023a6df1d952"
   },
   "outputs": [
    {
     "name": "stdout",
     "output_type": "stream",
     "text": [
      "My beautiful sunflowers on a sunny Friday morning off :) #sunflowers #favourites #happy #Friday off… https://t.co/3tfYom0N1i\n"
     ]
    }
   ],
   "source": [
    "# Our selected sample. Complex enough to exemplify each step\n",
    "tweet = all_positive_tweets[2277]\n",
    "print(tweet)"
   ]
  },
  {
   "cell_type": "markdown",
   "metadata": {
    "id": "Ww9e9Uqu3p0B"
   },
   "source": [
    "Let's import a few more libraries for this purpose."
   ]
  },
  {
   "cell_type": "code",
   "execution_count": 61,
   "metadata": {
    "colab": {
     "base_uri": "https://localhost:8080/"
    },
    "id": "ci0qXgo53p0B",
    "outputId": "0f395203-bab3-4ed6-fddb-bb217838e0c3"
   },
   "outputs": [
    {
     "name": "stderr",
     "output_type": "stream",
     "text": [
      "[nltk_data] Downloading package stopwords to\n",
      "[nltk_data]     /Users/ameeraattiah/nltk_data...\n",
      "[nltk_data]   Unzipping corpora/stopwords.zip.\n"
     ]
    },
    {
     "data": {
      "text/plain": [
       "True"
      ]
     },
     "execution_count": 61,
     "metadata": {},
     "output_type": "execute_result"
    }
   ],
   "source": [
    "# download the stopwords from NLTK\n",
    "nltk.download('stopwords')"
   ]
  },
  {
   "cell_type": "code",
   "execution_count": 73,
   "metadata": {
    "id": "7xVYvG283p0C"
   },
   "outputs": [],
   "source": [
    "import re                                  # library for regular expression operations\n",
    "import string                              # for string operations\n",
    "\n",
    "from nltk.corpus import stopwords          # module for stop words that come with NLTK\n",
    "from nltk.stem import PorterStemmer        # module for stemming\n",
    "from nltk.tokenize import TweetTokenizer   # module for tokenizing strings"
   ]
  },
  {
   "cell_type": "markdown",
   "metadata": {
    "id": "XQPyFTNQ3p0C"
   },
   "source": [
    "### Remove hyperlinks,  Twitter marks and styles\n",
    "\n",
    "Since we have a Twitter dataset, we'd like to remove some substrings commonly used on the platform like the hashtag, retweet marks, and hyperlinks. We'll use the [re](https://docs.python.org/3/library/re.html) library to perform regular expression operations on our tweet. We'll define our search pattern and use the `sub()` method to remove matches by substituting with an empty character (i.e. `''`)"
   ]
  },
  {
   "cell_type": "code",
   "execution_count": 75,
   "metadata": {
    "colab": {
     "base_uri": "https://localhost:8080/"
    },
    "id": "zHPMVC6h3p0C",
    "outputId": "6da0350e-85b9-41ae-a31d-36401ff7d9f0"
   },
   "outputs": [
    {
     "name": "stdout",
     "output_type": "stream",
     "text": [
      "\u001b[92mMy beautiful sunflowers on a sunny Friday morning off :) #sunflowers #favourites #happy #Friday off… https://t.co/3tfYom0N1i\n",
      "\u001b[94m\n",
      "My beautiful sunflowers on a sunny Friday morning off :) sunflowers favourites happy Friday off… \n"
     ]
    }
   ],
   "source": [
    "print('\\033[92m' + tweet)\n",
    "print('\\033[94m')\n",
    "\n",
    "# remove old style retweet text \"RT\"\n",
    "tweet2 = re.sub(r'^RT[\\s]+', '', tweet)\n",
    "\n",
    "# remove hyperlinks\n",
    "tweet2 = re.sub(r'https?:\\/\\/.*[\\r\\n]*', '', tweet2)\n",
    "\n",
    "# remove hashtags\n",
    "# only removing the hash # sign from the word\n",
    "tweet2 = re.sub(r'#', '', tweet2)\n",
    "\n",
    "print(tweet2)"
   ]
  },
  {
   "cell_type": "markdown",
   "metadata": {
    "id": "ftISSpsw3p0C"
   },
   "source": [
    "[link text](https://)### Tokenize the string\n",
    "\n",
    "To tokenize means to split the strings into individual words without blanks or tabs. In this same step, we will also convert each word in the string to lower case. The [tokenize](https://www.nltk.org/api/nltk.tokenize.html#module-nltk.tokenize.casual) module from NLTK allows us to do these easily:"
   ]
  },
  {
   "cell_type": "code",
   "execution_count": 77,
   "metadata": {
    "colab": {
     "base_uri": "https://localhost:8080/"
    },
    "id": "2b1wwhoVUp90",
    "outputId": "da2fa189-c605-4fb0-8a8f-490a8a20d59c"
   },
   "outputs": [
    {
     "name": "stdout",
     "output_type": "stream",
     "text": [
      "['I', 'love', 'NLP']\n"
     ]
    },
    {
     "name": "stderr",
     "output_type": "stream",
     "text": [
      "[nltk_data] Downloading package punkt to\n",
      "[nltk_data]     /Users/ameeraattiah/nltk_data...\n",
      "[nltk_data]   Package punkt is already up-to-date!\n"
     ]
    }
   ],
   "source": [
    "import nltk\n",
    "nltk.download('punkt')\n",
    "from nltk.tokenize import word_tokenize\n",
    "text = \"I love NLP\"\n",
    "tokens = word_tokenize(text)\n",
    "print(tokens)  # ['I', 'love', 'NLP']\n"
   ]
  },
  {
   "cell_type": "code",
   "execution_count": 79,
   "metadata": {
    "colab": {
     "base_uri": "https://localhost:8080/"
    },
    "id": "kaEictzO3p0C",
    "outputId": "891cf8b1-6bc9-4995-e4a1-f9f837edf28b"
   },
   "outputs": [
    {
     "name": "stdout",
     "output_type": "stream",
     "text": [
      "\n",
      "\u001b[92mMy beautiful sunflowers on a sunny Friday morning off :) sunflowers favourites happy Friday off… \n",
      "\u001b[94m\n",
      "\n",
      "Tokenized string:\n",
      "['my', 'beautiful', 'sunflowers', 'on', 'a', 'sunny', 'friday', 'morning', 'off', ':)', 'sunflowers', 'favourites', 'happy', 'friday', 'off', '…']\n"
     ]
    }
   ],
   "source": [
    "print()\n",
    "print('\\033[92m' + tweet2)\n",
    "print('\\033[94m')\n",
    "\n",
    "# instantiate tokenizer class\n",
    "tokenizer = TweetTokenizer(preserve_case=False, strip_handles=True,\n",
    "                               reduce_len=True)\n",
    "\n",
    "# tokenize tweets\n",
    "tweet_tokens = tokenizer.tokenize(tweet2)\n",
    "\n",
    "print()\n",
    "print('Tokenized string:')\n",
    "print(tweet_tokens)"
   ]
  },
  {
   "cell_type": "markdown",
   "metadata": {
    "id": "cR-4qazr3p0D"
   },
   "source": [
    "### Remove stop words and punctuations\n",
    "\n",
    "The next step is to remove stop words and punctuation. Stop words are words that don't add significant meaning to the text. You'll see the list provided by NLTK when you run the cells below."
   ]
  },
  {
   "cell_type": "code",
   "execution_count": 22,
   "metadata": {
    "colab": {
     "base_uri": "https://localhost:8080/"
    },
    "id": "rN-t72BG3p0D",
    "outputId": "354e76d2-15bb-4e09-a9a4-09d3314eeb4a"
   },
   "outputs": [
    {
     "name": "stdout",
     "output_type": "stream",
     "text": [
      "Stop words\n",
      "\n",
      "['i', 'me', 'my', 'myself', 'we', 'our', 'ours', 'ourselves', 'you', \"you're\", \"you've\", \"you'll\", \"you'd\", 'your', 'yours', 'yourself', 'yourselves', 'he', 'him', 'his', 'himself', 'she', \"she's\", 'her', 'hers', 'herself', 'it', \"it's\", 'its', 'itself', 'they', 'them', 'their', 'theirs', 'themselves', 'what', 'which', 'who', 'whom', 'this', 'that', \"that'll\", 'these', 'those', 'am', 'is', 'are', 'was', 'were', 'be', 'been', 'being', 'have', 'has', 'had', 'having', 'do', 'does', 'did', 'doing', 'a', 'an', 'the', 'and', 'but', 'if', 'or', 'because', 'as', 'until', 'while', 'of', 'at', 'by', 'for', 'with', 'about', 'against', 'between', 'into', 'through', 'during', 'before', 'after', 'above', 'below', 'to', 'from', 'up', 'down', 'in', 'out', 'on', 'off', 'over', 'under', 'again', 'further', 'then', 'once', 'here', 'there', 'when', 'where', 'why', 'how', 'all', 'any', 'both', 'each', 'few', 'more', 'most', 'other', 'some', 'such', 'no', 'nor', 'not', 'only', 'own', 'same', 'so', 'than', 'too', 'very', 's', 't', 'can', 'will', 'just', 'don', \"don't\", 'should', \"should've\", 'now', 'd', 'll', 'm', 'o', 're', 've', 'y', 'ain', 'aren', \"aren't\", 'couldn', \"couldn't\", 'didn', \"didn't\", 'doesn', \"doesn't\", 'hadn', \"hadn't\", 'hasn', \"hasn't\", 'haven', \"haven't\", 'isn', \"isn't\", 'ma', 'mightn', \"mightn't\", 'mustn', \"mustn't\", 'needn', \"needn't\", 'shan', \"shan't\", 'shouldn', \"shouldn't\", 'wasn', \"wasn't\", 'weren', \"weren't\", 'won', \"won't\", 'wouldn', \"wouldn't\"]\n",
      "\n",
      "Punctuation\n",
      "\n",
      "!\"#$%&'()*+,-./:;<=>?@[\\]^_`{|}~\n"
     ]
    }
   ],
   "source": [
    "#Import the english stop words list from NLTK\n",
    "stopwords_english = stopwords.words('english')\n",
    "\n",
    "print('Stop words\\n')\n",
    "print(stopwords_english)\n",
    "\n",
    "print('\\nPunctuation\\n')\n",
    "print(string.punctuation)"
   ]
  },
  {
   "cell_type": "markdown",
   "metadata": {
    "id": "aFXZY_uA3p0D"
   },
   "source": [
    "We can see that the stop words list above contains some words that could be important in some contexts.\n",
    "These could be words like _i, not, between, because, won, against_. You might need to customize the stop words list for some applications. For our exercise, we will use the entire list.\n",
    "\n",
    "For the punctuation, we saw earlier that certain groupings like ':)' and '...'  should be retained when dealing with tweets because they are used to express emotions. In other contexts, like medical analysis, these should also be removed.\n",
    "\n",
    "Time to clean up our tokenized tweet!"
   ]
  },
  {
   "cell_type": "code",
   "execution_count": 23,
   "metadata": {
    "colab": {
     "base_uri": "https://localhost:8080/"
    },
    "id": "vfJftULD3p0D",
    "outputId": "98d24ba5-306c-484e-ba94-7eb629aa0645"
   },
   "outputs": [
    {
     "name": "stdout",
     "output_type": "stream",
     "text": [
      "\n",
      "\u001b[92m\n",
      "['my', 'beautiful', 'sunflowers', 'on', 'a', 'sunny', 'friday', 'morning', 'off', ':)', 'sunflowers', 'favourites', 'happy', 'friday', 'off', '…']\n",
      "\u001b[94m\n",
      "removed stop words and punctuation:\n",
      "['beautiful', 'sunflowers', 'sunny', 'friday', 'morning', ':)', 'sunflowers', 'favourites', 'happy', 'friday', '…']\n"
     ]
    }
   ],
   "source": [
    "print()\n",
    "print('\\033[92m')\n",
    "print(tweet_tokens)\n",
    "print('\\033[94m')\n",
    "\n",
    "tweets_clean = []\n",
    "\n",
    "for word in tweet_tokens: # Go through every word in your tokens list\n",
    "    if (word not in stopwords_english and  # remove stopwords\n",
    "        word not in string.punctuation):  # remove punctuation\n",
    "        tweets_clean.append(word)\n",
    "\n",
    "print('removed stop words and punctuation:')\n",
    "print(tweets_clean)"
   ]
  },
  {
   "cell_type": "markdown",
   "metadata": {
    "id": "0Ko52eHr3p0D"
   },
   "source": [
    "Please note that the words **happy** and **sunny** in this list are correctly spelled."
   ]
  },
  {
   "cell_type": "markdown",
   "metadata": {
    "id": "0kL8YZpc3p0D"
   },
   "source": [
    "### Stemming\n",
    "\n",
    "Stemming is the process of converting a word to its most general form, or stem. This helps in reducing the size of our vocabulary.\n",
    "\n",
    "Consider the words:\n",
    " * **learn**\n",
    " * **learn**ing\n",
    " * **learn**ed\n",
    " * **learn**t\n",
    "\n",
    "All these words are stemmed from its common root **learn**. However, in some cases, the stemming process produces words that are not correct spellings of the root word. For example, **happi** and **sunni**. That's because it chooses the most common stem for related words. For example, we can look at the set of words that comprises the different forms of happy:\n",
    "\n",
    " * **happ**y\n",
    " * **happi**ness\n",
    " * **happi**er\n",
    "\n",
    "We can see that the prefix **happi** is more commonly used. We cannot choose **happ** because it is the stem of unrelated words like **happen**.\n",
    "\n",
    "NLTK has different modules for stemming and we will be using the [PorterStemmer](https://www.nltk.org/api/nltk.stem.html#module-nltk.stem.porter) module which uses the [Porter Stemming Algorithm](https://tartarus.org/martin/PorterStemmer/). Let's see how we can use it in the cell below."
   ]
  },
  {
   "cell_type": "code",
   "execution_count": 24,
   "metadata": {
    "colab": {
     "base_uri": "https://localhost:8080/"
    },
    "id": "2XXOQydW3p0D",
    "outputId": "45ec6c0b-27c0-4380-f095-8c3914db9bb4"
   },
   "outputs": [
    {
     "name": "stdout",
     "output_type": "stream",
     "text": [
      "\n",
      "\u001b[92m\n",
      "['beautiful', 'sunflowers', 'sunny', 'friday', 'morning', ':)', 'sunflowers', 'favourites', 'happy', 'friday', '…']\n",
      "\u001b[94m\n",
      "stemmed words:\n",
      "['beauti', 'sunflow', 'sunni', 'friday', 'morn', ':)', 'sunflow', 'favourit', 'happi', 'friday', '…']\n"
     ]
    }
   ],
   "source": [
    "print()\n",
    "print('\\033[92m')\n",
    "print(tweets_clean)\n",
    "print('\\033[94m')\n",
    "\n",
    "# Instantiate stemming class\n",
    "stemmer = PorterStemmer()\n",
    "\n",
    "# Create an empty list to store the stems\n",
    "tweets_stem = []\n",
    "\n",
    "for word in tweets_clean:\n",
    "    stem_word = stemmer.stem(word)  # stemming word\n",
    "    tweets_stem.append(stem_word)  # append to the list\n",
    "\n",
    "print('stemmed words:')\n",
    "print(tweets_stem)"
   ]
  },
  {
   "cell_type": "markdown",
   "metadata": {
    "id": "bXJiE8zb3p0E"
   },
   "source": [
    "That's it! Now we have a set of words we can feed into to the next stage of our machine learning project."
   ]
  },
  {
   "cell_type": "markdown",
   "metadata": {
    "id": "8MQY-D9_3p0E"
   },
   "source": [
    "## Exercise 2: Create an NLP Pipline process_tweet()\n",
    "\n",
    "As shown above, preprocessing consists of multiple steps before you arrive at the final list of words.I want you to create a function that  represent nlp pipline for tweets  `process_tweet(tweet)`."
   ]
  },
  {
   "cell_type": "code",
   "execution_count": 101,
   "metadata": {
    "id": "mIiQ6xsUSiph"
   },
   "outputs": [],
   "source": [
    "import re\n",
    "import string\n",
    "from nltk.corpus import stopwords\n",
    "from nltk.stem import PorterStemmer\n",
    "from nltk.tokenize import TweetTokenizer\n",
    "\n",
    "def process_tweet(tweet):\n",
    "    # STEP 1: Remove retweet text, hyperlinks, and hashtags\n",
    "    nltk.download('stopwords')\n",
    "    # remove old style retweet text \"RT\"\n",
    "    tweet2 = re.sub(r'^RT[\\s]+', '', tweet)\n",
    "    # remove hyperlinks\n",
    "    tweet2 = re.sub(r'https?:\\/\\/.*[\\r\\n]*', '', tweet2)\n",
    "    # remove hashtags\n",
    "    # only removing the hash # sign from the word\n",
    "    tweet2 = re.sub(r'#', '', tweet2)\n",
    "\n",
    "    # STEP 2: Tokenizations\n",
    "    # instantiate tokenizer class\n",
    "    tokenizer = TweetTokenizer(preserve_case=False, strip_handles=True, reduce_len=True)\n",
    "    # tokenize tweets\n",
    "    tweet_tokens = tokenizer.tokenize(tweet2)\n",
    "\n",
    "    # STEP 3: Remove Stopwords\n",
    "    stopwords_english = stopwords.words('english')\n",
    "    tweets_clean = []\n",
    "    for word in tweet_tokens: # Go through every word in your tokens list\n",
    "        if (word not in stopwords_english and  # remove stopwords\n",
    "            word not in string.punctuation):  # remove punctuation\n",
    "            tweets_clean.append(word)\n",
    "\n",
    "    # STEP 4: Stemming\n",
    "    # Instantiate stemming class\n",
    "    stemmer = PorterStemmer()\n",
    "    # Create an empty list to store the stems\n",
    "    tweets_stem = []\n",
    "    \n",
    "    for word in tweets_clean:\n",
    "        stem_word = stemmer.stem(word)  # stemming word\n",
    "        tweets_stem.append(stem_word)  # append to the list\n",
    "    \n",
    "    return tweets_stem"
   ]
  },
  {
   "cell_type": "code",
   "execution_count": 103,
   "metadata": {
    "colab": {
     "base_uri": "https://localhost:8080/"
    },
    "id": "TKOpLdpF3p0E",
    "outputId": "a6346f25-9b21-4f1f-b1ea-f6e5f56d39aa"
   },
   "outputs": [
    {
     "name": "stdout",
     "output_type": "stream",
     "text": [
      "\n",
      "\u001b[92m\n",
      "My beautiful sunflowers on a sunny Friday morning off :) #sunflowers #favourites #happy #Friday off… https://t.co/3tfYom0N1i\n",
      "\u001b[94m\n",
      "Preprocessed tweet:\n",
      "['beauti', 'sunflow', 'sunni', 'friday', 'morn', ':)', 'sunflow', 'favourit', 'happi', 'friday', '…']\n"
     ]
    },
    {
     "name": "stderr",
     "output_type": "stream",
     "text": [
      "[nltk_data] Downloading package stopwords to\n",
      "[nltk_data]     /Users/ameeraattiah/nltk_data...\n",
      "[nltk_data]   Package stopwords is already up-to-date!\n"
     ]
    }
   ],
   "source": [
    "\n",
    "# choose the same tweet\n",
    "tweet = all_positive_tweets[2277]\n",
    "\n",
    "print()\n",
    "print('\\033[92m')\n",
    "print(tweet)\n",
    "print('\\033[94m')\n",
    "\n",
    "tweets_stem = process_tweet(tweet); # Preprocess a given tweet\n",
    "\n",
    "print('Preprocessed tweet:')\n",
    "print(tweets_stem) # Print the result"
   ]
  },
  {
   "cell_type": "code",
   "execution_count": 109,
   "metadata": {},
   "outputs": [
    {
     "name": "stdout",
     "output_type": "stream",
     "text": [
      "Preprocessed tweet:\n",
      "['ameera', 'love', 'studi', 'nlp', 'dr', 'naila']\n"
     ]
    },
    {
     "name": "stderr",
     "output_type": "stream",
     "text": [
      "[nltk_data] Downloading package stopwords to\n",
      "[nltk_data]     /Users/ameeraattiah/nltk_data...\n",
      "[nltk_data]   Package stopwords is already up-to-date!\n"
     ]
    }
   ],
   "source": [
    "text = \"Ameera loves studying NLP with Dr. Naila! \"\n",
    "tweets_stem = process_tweet(text); # Preprocess a given tweet\n",
    "\n",
    "print('Preprocessed tweet:')\n",
    "print(tweets_stem) # Print the result"
   ]
  },
  {
   "cell_type": "markdown",
   "metadata": {
    "id": "pZjpRp0nVg6o"
   },
   "source": [
    "# Step 3: Data Representation (Vectorization)\n",
    "\n",
    "Purpose: Vectorization is the process of converting tokens (text data) into numerical vectors so that machine learning algorithms can process them. Computers work with numbers, so we need to represent text in a numerical format.\n",
    "\n",
    "Process:\n",
    "There are different vectorization techniques such as Bag of Words (BoW), TF-IDF, and more advanced techniques like Word2Vec or Transformers.\n",
    "\n",
    "For example, BoW will convert the tokens ['I', 'love', 'NLP'] into a vector that counts the frequency of each word across documents.\n"
   ]
  },
  {
   "cell_type": "code",
   "execution_count": 19,
   "metadata": {
    "colab": {
     "base_uri": "https://localhost:8080/"
    },
    "id": "SjWJ6TPzOKZ5",
    "outputId": "ca94c893-2eff-40ce-e87e-5089baa8f669"
   },
   "outputs": [
    {
     "name": "stdout",
     "output_type": "stream",
     "text": [
      "Scikit-learn Tokens (CountVectorizer):\n",
      " ['beautiful' 'favourites' 'friday' 'happy' 'morning' 'my' 'off' 'on'\n",
      " 'sunflowers' 'sunny']\n",
      "Scikit-learn Tokens (CountVectorizer):\n",
      "   (0, 5)\t1\n",
      "  (0, 0)\t1\n",
      "  (0, 8)\t2\n",
      "  (0, 7)\t1\n",
      "  (0, 9)\t1\n",
      "  (0, 2)\t2\n",
      "  (0, 4)\t1\n",
      "  (0, 6)\t2\n",
      "  (0, 1)\t1\n",
      "  (0, 3)\t1\n"
     ]
    }
   ],
   "source": [
    "#  Scikit-learn’s CountVectorizer breaks down text into tokens and converts them into a bag-of-words representation, which is the frequency of each word across the corpus.\n",
    "\n",
    "\n",
    "from sklearn.feature_extraction.text import CountVectorizer\n",
    "\n",
    "# Instantiate CountVectorizer\n",
    "vectorizer = CountVectorizer()\n",
    "\n",
    "# Tokenization with CountVectorizer (convert single tweet to list of strings first)\n",
    "tweet_tokenized = vectorizer.fit_transform([tweet2])\n",
    "\n",
    "# Get feature names (tokens)\n",
    "tokens = vectorizer.get_feature_names_out()\n",
    "\n",
    "print(\"Scikit-learn Tokens (CountVectorizer):\\n\", tokens)\n",
    "print(\"Scikit-learn Tokens (CountVectorizer):\\n\", tweet_tokenized)\n",
    "\n"
   ]
  },
  {
   "cell_type": "code",
   "execution_count": 16,
   "metadata": {
    "colab": {
     "base_uri": "https://localhost:8080/"
    },
    "id": "t7jdpWt7PnKa",
    "outputId": "76fe4e4b-7f0d-48f2-88b3-99598b0e65bd"
   },
   "outputs": [
    {
     "name": "stdout",
     "output_type": "stream",
     "text": [
      "Scikit-learn Tokens (TfidfVectorizer):\n",
      " ['beautiful' 'favourites' 'friday' 'happy' 'morning' 'my' 'off' 'on'\n",
      " 'sunflowers' 'sunny']\n",
      "TF-IDF Scores:\n",
      " [[0.22941573 0.22941573 0.45883147 0.22941573 0.22941573 0.22941573\n",
      "  0.45883147 0.22941573 0.45883147 0.22941573]]\n"
     ]
    }
   ],
   "source": [
    "from sklearn.feature_extraction.text import TfidfVectorizer\n",
    "\n",
    "# Instantiate TfidfVectorizer\n",
    "tfidf_vectorizer = TfidfVectorizer()\n",
    "\n",
    "# Tokenization and TF-IDF calculation with TfidfVectorizer\n",
    "tweet_tfidf = tfidf_vectorizer.fit_transform([tweet2])\n",
    "\n",
    "# Get tokens (feature names) and their corresponding TF-IDF scores\n",
    "tokens = tfidf_vectorizer.get_feature_names_out()\n",
    "tfidf_scores = tweet_tfidf.toarray()\n",
    "\n",
    "print(\"Scikit-learn Tokens (TfidfVectorizer):\\n\", tokens)\n",
    "print(\"TF-IDF Scores:\\n\", tfidf_scores)\n"
   ]
  },
  {
   "cell_type": "markdown",
   "metadata": {
    "id": "9sBF1sLo3p0E"
   },
   "source": [
    "That's it for this lab! You now know what is going on when you call the preprocessing helper function in this week's assignment. Hopefully, this exercise has also given you some insights on how to tweak this for other types of text datasets."
   ]
  }
 ],
 "metadata": {
  "colab": {
   "provenance": [],
   "toc_visible": true
  },
  "kernelspec": {
   "display_name": "Python 3 (ipykernel)",
   "language": "python",
   "name": "python3"
  },
  "language_info": {
   "codemirror_mode": {
    "name": "ipython",
    "version": 3
   },
   "file_extension": ".py",
   "mimetype": "text/x-python",
   "name": "python",
   "nbconvert_exporter": "python",
   "pygments_lexer": "ipython3",
   "version": "3.12.4"
  }
 },
 "nbformat": 4,
 "nbformat_minor": 4
}

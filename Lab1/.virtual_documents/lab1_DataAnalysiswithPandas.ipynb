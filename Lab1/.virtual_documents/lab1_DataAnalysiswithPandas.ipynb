

















%matplotlib inline
import numpy as np
import matplotlib.pyplot as plt
import pandas as pd
import seaborn as sns
pd.set_option('display.width', 500)
pd.set_option('display.max_columns', 100)


data = {
    'apples':[1,2,3,4],
    'oranges':[5,6,7,8]
}
fruits = pd.DataFrame(data)
fruits





#Read the data into a dataframe
df = pd.read_csv("data/goodreads.csv")

#Examine the first few rows of the dataframe
df.head()





# your code here
df = pd.read_csv("data/goodreads.csv",header= None, names= ["rating", 'review_count', 'isbn', 'booktype','author_url', 'year', 'genre_urls', 'dir','rating_count', 'name'])
df.head()





# your code here
df.dtypes








print(df.shape)
df.columns








#Get a sense of how many missing values there are in the dataframe. Do it for all columns
np.sum([df.rating.isnull()])


#Try to locate where the missing values occur
df[df.rating.isnull()]











df[df.year.isnull()]





#Treat the missing or invalid values in your dataframe
####### 

df = df[df.year.notnull()]





df.dtypes


print(np.sum(df.year.isnull()))
print(np.sum(df.rating_count.isnull())) 
print(np.sum(df.review_count.isnull())) 
# We removed seven rows
df.shape








# your code here
df = df.apply(lambda x: x.astype(int) if x.dtype == 'float' else x)  





df.dtypes








df.loc[df.genre_urls.isnull(), 'genre_urls']=""
df.loc[df.isbn.isnull(), 'isbn']=""








#Get the first author_url
test_string = df.author_url[0]
test_string


#Test out some string operations to isolate the author name

test_string.split('/')[-1].split('.')[1:][0]





# Write a function that accepts an author url and returns the author's name based on your experimentation above
def get_author(url):
    # your code here
    author = test_string.split('/')[-1].split('.')[1:][0]
    return author


#Apply the get_author function to the 'author_url' column using '.map' 
#and add a new column 'author' to store the names
df['author'] = df.author_url.map(get_author)
df.author[0:5]






df.genre_urls.head()


# your code here

#Test out some string operations to isolate the genre name
test_genre_string=df.genre_urls[0]
genres=test_genre_string.strip().split('|')
for e in genres:
    print(e.split('/')[-1])
    "|".join(genres)





def split_and_join_genres(url):
    # your code here
    
    genres=test_genre_string.strip().split('|')
    for e in genres:
        print(e.split('/')[-1])
        "|".join(genres)





split_and_join_genres("/genres/young-adult|/genres/science-fiction")


split_and_join_genres("")






df['genres']=df.genre_urls.map(split_and_join_genres)
df.head()





df[df.author == "Marguerite_Yourcenar"]





del df['genre_urls']





df.to_csv("data/cleaned-goodreads.csv", index=False, header=True)











# your code here
negative_year = df[df['year'] < 0]

# Print all the book titles for books with negative years
for title in negative_year['name']:
    print(title)





dfgb_author = df.groupby('author')
type(dfgb_author)





dfgb_author.count()





dfgb_author['author'].count()





dfgb_author[['rating', 'rating_count', 'review_count', 'year']].describe()





ratingdict = {}
for author, subset in dfgb_author:
    ratingdict[author] = (subset['rating'].mean(), subset['rating'].std())
ratingdict





#Using .groupby, we can divide the dataframe into subsets by the values of 'year'.
#We can then iterate over these subsets
# your code here
best_rated = df.loc[df.groupby('year')['rating'].idxmax()]

best_rated[['year', 'name', 'rating']]

